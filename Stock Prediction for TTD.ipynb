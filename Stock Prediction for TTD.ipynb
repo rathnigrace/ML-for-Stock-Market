{
 "cells": [
  {
   "cell_type": "code",
   "execution_count": 10,
   "metadata": {},
   "outputs": [],
   "source": [
    "import pandas as pd\n",
    "import numpy as np\n",
    "import matplotlib. pyplot as plt\n",
    "import matplotlib\n",
    "from sklearn. preprocessing import minmax_scale\n",
    "from keras.layers import LSTM, Dense, Dropout\n",
    "from sklearn.model_selection import TimeSeriesSplit\n",
    "from sklearn.metrics import mean_squared_error, r2_score\n",
    "import matplotlib.dates as mdates\n",
    "from sklearn.preprocessing import MinMaxScaler\n",
    "from sklearn import linear_model\n",
    "from keras.models import Sequential, load_model\n",
    "from keras.layers import Dense, LSTM\n",
    "from keras.utils.vis_utils import plot_model\n",
    "from keras.callbacks import EarlyStopping\n",
    "from keras.optimizers import Adam\n",
    "import keras.backend as K\n",
    "import yfinance as yf"
   ]
  },
  {
   "cell_type": "code",
   "execution_count": 11,
   "metadata": {},
   "outputs": [
    {
     "name": "stdout",
     "output_type": "stream",
     "text": [
      "[*********************100%***********************]  1 of 1 completed\n"
     ]
    },
    {
     "data": {
      "text/html": [
       "<div>\n",
       "<style scoped>\n",
       "    .dataframe tbody tr th:only-of-type {\n",
       "        vertical-align: middle;\n",
       "    }\n",
       "\n",
       "    .dataframe tbody tr th {\n",
       "        vertical-align: top;\n",
       "    }\n",
       "\n",
       "    .dataframe thead th {\n",
       "        text-align: right;\n",
       "    }\n",
       "</style>\n",
       "<table border=\"1\" class=\"dataframe\">\n",
       "  <thead>\n",
       "    <tr style=\"text-align: right;\">\n",
       "      <th></th>\n",
       "      <th>Open</th>\n",
       "      <th>High</th>\n",
       "      <th>Low</th>\n",
       "      <th>Close</th>\n",
       "      <th>Adj Close</th>\n",
       "      <th>Volume</th>\n",
       "    </tr>\n",
       "    <tr>\n",
       "      <th>Date</th>\n",
       "      <th></th>\n",
       "      <th></th>\n",
       "      <th></th>\n",
       "      <th></th>\n",
       "      <th></th>\n",
       "      <th></th>\n",
       "    </tr>\n",
       "  </thead>\n",
       "  <tbody>\n",
       "    <tr>\n",
       "      <th>2016-09-21</th>\n",
       "      <td>2.875</td>\n",
       "      <td>3.0400</td>\n",
       "      <td>2.780</td>\n",
       "      <td>3.010</td>\n",
       "      <td>3.010</td>\n",
       "      <td>63438000</td>\n",
       "    </tr>\n",
       "    <tr>\n",
       "      <th>2016-09-22</th>\n",
       "      <td>3.100</td>\n",
       "      <td>3.1700</td>\n",
       "      <td>2.841</td>\n",
       "      <td>2.890</td>\n",
       "      <td>2.890</td>\n",
       "      <td>22728000</td>\n",
       "    </tr>\n",
       "    <tr>\n",
       "      <th>2016-09-23</th>\n",
       "      <td>2.885</td>\n",
       "      <td>2.8900</td>\n",
       "      <td>2.684</td>\n",
       "      <td>2.766</td>\n",
       "      <td>2.766</td>\n",
       "      <td>10587000</td>\n",
       "    </tr>\n",
       "    <tr>\n",
       "      <th>2016-09-26</th>\n",
       "      <td>2.710</td>\n",
       "      <td>2.8420</td>\n",
       "      <td>2.700</td>\n",
       "      <td>2.777</td>\n",
       "      <td>2.777</td>\n",
       "      <td>3061000</td>\n",
       "    </tr>\n",
       "    <tr>\n",
       "      <th>2016-09-27</th>\n",
       "      <td>2.833</td>\n",
       "      <td>3.0848</td>\n",
       "      <td>2.734</td>\n",
       "      <td>2.998</td>\n",
       "      <td>2.998</td>\n",
       "      <td>10158000</td>\n",
       "    </tr>\n",
       "  </tbody>\n",
       "</table>\n",
       "</div>"
      ],
      "text/plain": [
       "             Open    High    Low  Close  Adj Close    Volume\n",
       "Date                                                        \n",
       "2016-09-21  2.875  3.0400  2.780  3.010      3.010  63438000\n",
       "2016-09-22  3.100  3.1700  2.841  2.890      2.890  22728000\n",
       "2016-09-23  2.885  2.8900  2.684  2.766      2.766  10587000\n",
       "2016-09-26  2.710  2.8420  2.700  2.777      2.777   3061000\n",
       "2016-09-27  2.833  3.0848  2.734  2.998      2.998  10158000"
      ]
     },
     "execution_count": 11,
     "metadata": {},
     "output_type": "execute_result"
    }
   ],
   "source": [
    "ticker_symbol = \"TTD\"\n",
    "df =yf.download(ticker_symbol, start=\"2016-01-01\", end=\"2023-01-01\")\n",
    "df.head()\n"
   ]
  },
  {
   "cell_type": "code",
   "execution_count": 12,
   "metadata": {},
   "outputs": [
    {
     "name": "stdout",
     "output_type": "stream",
     "text": [
      "Dataframe Shape: (1581, 6)\n",
      "Null Value Present: False\n"
     ]
    },
    {
     "data": {
      "text/html": [
       "<div>\n",
       "<style scoped>\n",
       "    .dataframe tbody tr th:only-of-type {\n",
       "        vertical-align: middle;\n",
       "    }\n",
       "\n",
       "    .dataframe tbody tr th {\n",
       "        vertical-align: top;\n",
       "    }\n",
       "\n",
       "    .dataframe thead th {\n",
       "        text-align: right;\n",
       "    }\n",
       "</style>\n",
       "<table border=\"1\" class=\"dataframe\">\n",
       "  <thead>\n",
       "    <tr style=\"text-align: right;\">\n",
       "      <th></th>\n",
       "      <th>Open</th>\n",
       "      <th>High</th>\n",
       "      <th>Low</th>\n",
       "      <th>Close</th>\n",
       "      <th>Adj Close</th>\n",
       "      <th>Volume</th>\n",
       "    </tr>\n",
       "  </thead>\n",
       "  <tbody>\n",
       "    <tr>\n",
       "      <th>count</th>\n",
       "      <td>1581.000000</td>\n",
       "      <td>1581.000000</td>\n",
       "      <td>1581.000000</td>\n",
       "      <td>1581.000000</td>\n",
       "      <td>1581.000000</td>\n",
       "      <td>1.581000e+03</td>\n",
       "    </tr>\n",
       "    <tr>\n",
       "      <th>mean</th>\n",
       "      <td>34.314497</td>\n",
       "      <td>35.226360</td>\n",
       "      <td>33.386436</td>\n",
       "      <td>34.319718</td>\n",
       "      <td>34.319718</td>\n",
       "      <td>1.066480e+07</td>\n",
       "    </tr>\n",
       "    <tr>\n",
       "      <th>std</th>\n",
       "      <td>28.776685</td>\n",
       "      <td>29.524001</td>\n",
       "      <td>27.995209</td>\n",
       "      <td>28.759968</td>\n",
       "      <td>28.759968</td>\n",
       "      <td>9.923068e+06</td>\n",
       "    </tr>\n",
       "    <tr>\n",
       "      <th>min</th>\n",
       "      <td>2.215000</td>\n",
       "      <td>2.350000</td>\n",
       "      <td>2.200000</td>\n",
       "      <td>2.280000</td>\n",
       "      <td>2.280000</td>\n",
       "      <td>6.310000e+05</td>\n",
       "    </tr>\n",
       "    <tr>\n",
       "      <th>25%</th>\n",
       "      <td>6.410000</td>\n",
       "      <td>6.477000</td>\n",
       "      <td>6.281000</td>\n",
       "      <td>6.389000</td>\n",
       "      <td>6.389000</td>\n",
       "      <td>5.097000e+06</td>\n",
       "    </tr>\n",
       "    <tr>\n",
       "      <th>50%</th>\n",
       "      <td>24.284000</td>\n",
       "      <td>24.676500</td>\n",
       "      <td>23.771999</td>\n",
       "      <td>24.351999</td>\n",
       "      <td>24.351999</td>\n",
       "      <td>7.982000e+06</td>\n",
       "    </tr>\n",
       "    <tr>\n",
       "      <th>75%</th>\n",
       "      <td>60.250000</td>\n",
       "      <td>61.855000</td>\n",
       "      <td>58.509998</td>\n",
       "      <td>59.985001</td>\n",
       "      <td>59.985001</td>\n",
       "      <td>1.318780e+07</td>\n",
       "    </tr>\n",
       "    <tr>\n",
       "      <th>max</th>\n",
       "      <td>111.089996</td>\n",
       "      <td>114.089996</td>\n",
       "      <td>107.050003</td>\n",
       "      <td>111.639999</td>\n",
       "      <td>111.639999</td>\n",
       "      <td>1.276240e+08</td>\n",
       "    </tr>\n",
       "  </tbody>\n",
       "</table>\n",
       "</div>"
      ],
      "text/plain": [
       "              Open         High          Low        Close    Adj Close  \\\n",
       "count  1581.000000  1581.000000  1581.000000  1581.000000  1581.000000   \n",
       "mean     34.314497    35.226360    33.386436    34.319718    34.319718   \n",
       "std      28.776685    29.524001    27.995209    28.759968    28.759968   \n",
       "min       2.215000     2.350000     2.200000     2.280000     2.280000   \n",
       "25%       6.410000     6.477000     6.281000     6.389000     6.389000   \n",
       "50%      24.284000    24.676500    23.771999    24.351999    24.351999   \n",
       "75%      60.250000    61.855000    58.509998    59.985001    59.985001   \n",
       "max     111.089996   114.089996   107.050003   111.639999   111.639999   \n",
       "\n",
       "             Volume  \n",
       "count  1.581000e+03  \n",
       "mean   1.066480e+07  \n",
       "std    9.923068e+06  \n",
       "min    6.310000e+05  \n",
       "25%    5.097000e+06  \n",
       "50%    7.982000e+06  \n",
       "75%    1.318780e+07  \n",
       "max    1.276240e+08  "
      ]
     },
     "execution_count": 12,
     "metadata": {},
     "output_type": "execute_result"
    }
   ],
   "source": [
    "print(\"Dataframe Shape:\", df.shape)\n",
    "# Checking for null values \n",
    "print(\"Null Value Present:\", df.isnull().values.any())\n",
    "df.describe()"
   ]
  },
  {
   "cell_type": "code",
   "execution_count": 13,
   "metadata": {},
   "outputs": [
    {
     "data": {
      "text/plain": [
       "<Axes: xlabel='Date'>"
      ]
     },
     "execution_count": 13,
     "metadata": {},
     "output_type": "execute_result"
    },
    {
     "data": {
      "image/png": "[encoded data removed]",
      "text/plain": [
       "<Figure size 640x480 with 1 Axes>"
      ]
     },
     "metadata": {},
     "output_type": "display_data"
    }
   ],
   "source": [
    "df['Adj Close'].plot()"
   ]
  },
  {
   "cell_type": "code",
   "execution_count": 14,
   "metadata": {},
   "outputs": [],
   "source": [
    "# Set Target Variable\n",
    "output_var = pd.DataFrame(df['Adj Close'])\n",
    "\n",
    "# Selecting the Features\n",
    "features = ['Open', 'High', 'Low', 'Volume']\n"
   ]
  },
  {
   "cell_type": "code",
   "execution_count": 18,
   "metadata": {},
   "outputs": [
    {
     "name": "stdout",
     "output_type": "stream",
     "text": [
      " Transformed features for TTD:\n"
     ]
    },
    {
     "data": {
      "text/html": [
       "<div>\n",
       "<style scoped>\n",
       "    .dataframe tbody tr th:only-of-type {\n",
       "        vertical-align: middle;\n",
       "    }\n",
       "\n",
       "    .dataframe tbody tr th {\n",
       "        vertical-align: top;\n",
       "    }\n",
       "\n",
       "    .dataframe thead th {\n",
       "        text-align: right;\n",
       "    }\n",
       "</style>\n",
       "<table border=\"1\" class=\"dataframe\">\n",
       "  <thead>\n",
       "    <tr style=\"text-align: right;\">\n",
       "      <th></th>\n",
       "      <th>Open</th>\n",
       "      <th>High</th>\n",
       "      <th>Low</th>\n",
       "      <th>Volume</th>\n",
       "    </tr>\n",
       "    <tr>\n",
       "      <th>Date</th>\n",
       "      <th></th>\n",
       "      <th></th>\n",
       "      <th></th>\n",
       "      <th></th>\n",
       "    </tr>\n",
       "  </thead>\n",
       "  <tbody>\n",
       "    <tr>\n",
       "      <th>2016-09-21</th>\n",
       "      <td>0.006062</td>\n",
       "      <td>0.006175</td>\n",
       "      <td>0.005532</td>\n",
       "      <td>0.494571</td>\n",
       "    </tr>\n",
       "    <tr>\n",
       "      <th>2016-09-22</th>\n",
       "      <td>0.008129</td>\n",
       "      <td>0.007338</td>\n",
       "      <td>0.006113</td>\n",
       "      <td>0.174002</td>\n",
       "    </tr>\n",
       "    <tr>\n",
       "      <th>2016-09-23</th>\n",
       "      <td>0.006154</td>\n",
       "      <td>0.004833</td>\n",
       "      <td>0.004616</td>\n",
       "      <td>0.078398</td>\n",
       "    </tr>\n",
       "    <tr>\n",
       "      <th>2016-09-26</th>\n",
       "      <td>0.004546</td>\n",
       "      <td>0.004403</td>\n",
       "      <td>0.004769</td>\n",
       "      <td>0.019135</td>\n",
       "    </tr>\n",
       "    <tr>\n",
       "      <th>2016-09-27</th>\n",
       "      <td>0.005676</td>\n",
       "      <td>0.006576</td>\n",
       "      <td>0.005093</td>\n",
       "      <td>0.075020</td>\n",
       "    </tr>\n",
       "  </tbody>\n",
       "</table>\n",
       "</div>"
      ],
      "text/plain": [
       "                Open      High       Low    Volume\n",
       "Date                                              \n",
       "2016-09-21  0.006062  0.006175  0.005532  0.494571\n",
       "2016-09-22  0.008129  0.007338  0.006113  0.174002\n",
       "2016-09-23  0.006154  0.004833  0.004616  0.078398\n",
       "2016-09-26  0.004546  0.004403  0.004769  0.019135\n",
       "2016-09-27  0.005676  0.006576  0.005093  0.075020"
      ]
     },
     "execution_count": 18,
     "metadata": {},
     "output_type": "execute_result"
    }
   ],
   "source": [
    "from sklearn.preprocessing import MinMaxScaler\n",
    "\n",
    "# MinMaxScaler instance\n",
    "scaler = MinMaxScaler()\n",
    "\n",
    "# Fit and transform the selected features\n",
    "feature_transform = scaler.fit_transform(df[features])\n",
    "\n",
    "# DataFrame with transformed features\n",
    "feature_transform = pd.DataFrame(columns=features, data=feature_transform, index=df.index)\n",
    "print(\" Transformed features for TTD:\")\n",
    "feature_transform.head()\n"
   ]
  },
  {
   "cell_type": "code",
   "execution_count": 19,
   "metadata": {},
   "outputs": [],
   "source": [
    "from sklearn.model_selection import TimeSeriesSplit\n",
    "\n",
    "# Initialize TimeSeriesSplit\n",
    "timesplit = TimeSeriesSplit(n_splits=10)\n",
    "\n",
    "for train_index, test_index in timesplit.split(feature_transform):\n",
    "    X_train, X_test = feature_transform.iloc[train_index], feature_transform.iloc[test_index]\n",
    "    y_train, y_test = output_var.iloc[train_index].values.ravel(), output_var.iloc[test_index].values.ravel()\n"
   ]
  },
  {
   "cell_type": "code",
   "execution_count": 20,
   "metadata": {},
   "outputs": [],
   "source": [
    "trainX = np.array(X_train)\n",
    "testX = np.array(X_test)\n",
    "\n",
    "# Reshape the features for RNN input (samples, time steps, features)\n",
    "X_train = trainX.reshape(X_train.shape[0], X_train.shape[1], 1)\n",
    "X_test = testX.reshape(X_test.shape[0], X_test.shape[1], 1)\n",
    "trainX = trainX.reshape(trainX.shape[0], trainX.shape[1], 1)\n"
   ]
  },
  {
   "cell_type": "code",
   "execution_count": 21,
   "metadata": {},
   "outputs": [
    {
     "data": {
      "image/png": "[encoded data removed]",
      "text/plain": [
       "<IPython.core.display.Image object>"
      ]
     },
     "execution_count": 21,
     "metadata": {},
     "output_type": "execute_result"
    }
   ],
   "source": [
    "from keras.models import Sequential\n",
    "from keras.layers import LSTM, Dense\n",
    "from keras.utils.vis_utils import plot_model\n",
    "\n",
    "# Building the LSTM Model\n",
    "lstm = Sequential()\n",
    "lstm.add(LSTM(32, input_shape=(trainX.shape[1], trainX.shape[2]), activation='relu', return_sequences=False))\n",
    "lstm.add(Dense(1))\n",
    "lstm.compile(loss='mean_squared_error', optimizer='adam')\n",
    "\n",
    "# Plotting the model architecture\n",
    "plot_model(lstm, show_shapes=True, show_layer_names=True)\n"
   ]
  },
  {
   "cell_type": "code",
   "execution_count": 22,
   "metadata": {},
   "outputs": [
    {
     "name": "stdout",
     "output_type": "stream",
     "text": [
      "Epoch 1/50\n",
      "180/180 [==============================] - 3s 5ms/step - loss: 393.2934\n",
      "Epoch 2/50\n",
      "180/180 [==============================] - 1s 5ms/step - loss: 101.1182\n",
      "Epoch 3/50\n",
      "180/180 [==============================] - 1s 5ms/step - loss: 73.7205\n",
      "Epoch 4/50\n",
      "180/180 [==============================] - 1s 5ms/step - loss: 51.5246\n",
      "Epoch 5/50\n",
      "180/180 [==============================] - 1s 5ms/step - loss: 37.4819\n",
      "Epoch 6/50\n",
      "180/180 [==============================] - 1s 5ms/step - loss: 29.9871\n",
      "Epoch 7/50\n",
      "180/180 [==============================] - 1s 5ms/step - loss: 26.4044\n",
      "Epoch 8/50\n",
      "180/180 [==============================] - 1s 5ms/step - loss: 24.4992\n",
      "Epoch 9/50\n",
      "180/180 [==============================] - 1s 5ms/step - loss: 23.2211\n",
      "Epoch 10/50\n",
      "180/180 [==============================] - 1s 5ms/step - loss: 22.2578\n",
      "Epoch 11/50\n",
      "180/180 [==============================] - 1s 5ms/step - loss: 21.4946\n",
      "Epoch 12/50\n",
      "180/180 [==============================] - 1s 5ms/step - loss: 20.8988\n",
      "Epoch 13/50\n",
      "180/180 [==============================] - 1s 5ms/step - loss: 20.4111\n",
      "Epoch 14/50\n",
      "180/180 [==============================] - 1s 5ms/step - loss: 19.9723\n",
      "Epoch 15/50\n",
      "180/180 [==============================] - 1s 5ms/step - loss: 19.5471\n",
      "Epoch 16/50\n",
      "180/180 [==============================] - 1s 5ms/step - loss: 19.0361\n",
      "Epoch 17/50\n",
      "180/180 [==============================] - 1s 5ms/step - loss: 18.4688\n",
      "Epoch 18/50\n",
      "180/180 [==============================] - 1s 5ms/step - loss: 17.8522\n",
      "Epoch 19/50\n",
      "180/180 [==============================] - 1s 5ms/step - loss: 17.1986\n",
      "Epoch 20/50\n",
      "180/180 [==============================] - 1s 5ms/step - loss: 16.5285\n",
      "Epoch 21/50\n",
      "180/180 [==============================] - 1s 5ms/step - loss: 15.8660\n",
      "Epoch 22/50\n",
      "180/180 [==============================] - 1s 5ms/step - loss: 15.2230\n",
      "Epoch 23/50\n",
      "180/180 [==============================] - 1s 5ms/step - loss: 14.6038\n",
      "Epoch 24/50\n",
      "180/180 [==============================] - 1s 5ms/step - loss: 13.8891\n",
      "Epoch 25/50\n",
      "180/180 [==============================] - 1s 5ms/step - loss: 13.3809\n",
      "Epoch 26/50\n",
      "180/180 [==============================] - 1s 5ms/step - loss: 12.8446\n",
      "Epoch 27/50\n",
      "180/180 [==============================] - 1s 5ms/step - loss: 12.3329\n",
      "Epoch 28/50\n",
      "180/180 [==============================] - 1s 5ms/step - loss: 11.8391\n",
      "Epoch 29/50\n",
      "180/180 [==============================] - 1s 5ms/step - loss: 11.3626\n",
      "Epoch 30/50\n",
      "180/180 [==============================] - 1s 5ms/step - loss: 10.9076\n",
      "Epoch 31/50\n",
      "180/180 [==============================] - 1s 5ms/step - loss: 10.4753\n",
      "Epoch 32/50\n",
      "180/180 [==============================] - 1s 5ms/step - loss: 10.0565\n",
      "Epoch 33/50\n",
      "180/180 [==============================] - 1s 5ms/step - loss: 9.6492\n",
      "Epoch 34/50\n",
      "180/180 [==============================] - 1s 5ms/step - loss: 9.2586\n",
      "Epoch 35/50\n",
      "180/180 [==============================] - 1s 5ms/step - loss: 8.8771\n",
      "Epoch 36/50\n",
      "180/180 [==============================] - 1s 5ms/step - loss: 8.5068\n",
      "Epoch 37/50\n",
      "180/180 [==============================] - 1s 5ms/step - loss: 8.1460\n",
      "Epoch 38/50\n",
      "180/180 [==============================] - 1s 5ms/step - loss: 7.7968\n",
      "Epoch 39/50\n",
      "180/180 [==============================] - 1s 5ms/step - loss: 7.4582\n",
      "Epoch 40/50\n",
      "180/180 [==============================] - 1s 5ms/step - loss: 7.1290\n",
      "Epoch 41/50\n",
      "180/180 [==============================] - 1s 5ms/step - loss: 6.8061\n",
      "Epoch 42/50\n",
      "180/180 [==============================] - 1s 5ms/step - loss: 6.4921\n",
      "Epoch 43/50\n",
      "180/180 [==============================] - 1s 5ms/step - loss: 6.1866\n",
      "Epoch 44/50\n",
      "180/180 [==============================] - 1s 5ms/step - loss: 5.8864\n",
      "Epoch 45/50\n",
      "180/180 [==============================] - 1s 5ms/step - loss: 5.5925\n",
      "Epoch 46/50\n",
      "180/180 [==============================] - 1s 5ms/step - loss: 5.3058\n",
      "Epoch 47/50\n",
      "180/180 [==============================] - 1s 5ms/step - loss: 5.0274\n",
      "Epoch 48/50\n",
      "180/180 [==============================] - 1s 5ms/step - loss: 4.7583\n",
      "Epoch 49/50\n",
      "180/180 [==============================] - 1s 5ms/step - loss: 4.4988\n",
      "Epoch 50/50\n",
      "180/180 [==============================] - 1s 5ms/step - loss: 4.2512\n"
     ]
    }
   ],
   "source": [
    "history = lstm.fit(X_train, y_train, epochs=50, batch_size=8, verbose=1, shuffle=False)\n"
   ]
  },
  {
   "cell_type": "code",
   "execution_count": 23,
   "metadata": {},
   "outputs": [
    {
     "name": "stdout",
     "output_type": "stream",
     "text": [
      "5/5 [==============================] - 0s 3ms/step\n"
     ]
    }
   ],
   "source": [
    "y_pred= lstm.predict(X_test)"
   ]
  },
  {
   "cell_type": "code",
   "execution_count": 24,
   "metadata": {},
   "outputs": [
    {
     "data": {
      "image/png": "[encoded data removed]",
      "text/plain": [
       "<Figure size 640x480 with 1 Axes>"
      ]
     },
     "metadata": {},
     "output_type": "display_data"
    }
   ],
   "source": [
    "import matplotlib.pyplot as plt\n",
    "\n",
    "plt.plot(y_test, label='True Value')\n",
    "plt.plot(y_pred, label='LSTM Value')\n",
    "plt.title(\"Prediction by LSTM\")\n",
    "plt.xlabel('Time Scale')\n",
    "plt.ylabel('Scaled USD')\n",
    "plt.legend()\n",
    "plt.show()\n"
   ]
  }
 ],
 "metadata": {
  "kernelspec": {
   "display_name": "Python 3 (ipykernel)",
   "language": "python",
   "name": "python3"
  },
  "language_info": {
   "codemirror_mode": {
    "name": "ipython",
    "version": 3
   },
   "file_extension": ".py",
   "mimetype": "text/x-python",
   "name": "python",
   "nbconvert_exporter": "python",
   "pygments_lexer": "ipython3",
   "version": "3.8.5"
  }
 },
 "nbformat": 4,
 "nbformat_minor": 4
}
